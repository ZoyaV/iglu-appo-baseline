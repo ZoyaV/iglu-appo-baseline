{
 "cells": [
  {
   "cell_type": "code",
   "execution_count": 3,
   "id": "5c1d2288",
   "metadata": {},
   "outputs": [
    {
     "name": "stdout",
     "output_type": "stream",
     "text": [
      "openjdk version \"1.8.0_312\"\r\n",
      "OpenJDK Runtime Environment (build 1.8.0_312-8u312-b07-0ubuntu1~20.04-b07)\r\n",
      "OpenJDK 64-Bit Server VM (build 25.312-b07, mixed mode)\r\n"
     ]
    }
   ],
   "source": [
    "!java -version"
   ]
  },
  {
   "cell_type": "code",
   "execution_count": 1,
   "id": "5d820a19",
   "metadata": {},
   "outputs": [
    {
     "name": "stderr",
     "output_type": "stream",
     "text": [
      "/home/zoya/.local/lib/python3.8/site-packages/gym/logger.py:30: UserWarning: \u001b[33mWARN: Box bound precision lowered by casting to float32\u001b[0m\n",
      "  warnings.warn(colorize('%s: %s'%('WARN', msg % args), 'yellow'))\n"
     ]
    },
    {
     "ename": "FileNotFoundError",
     "evalue": "[Errno 2] No such file or directory: '/home/zoya/.iglu/data/The Minecraft Dialogue Corpus -- no screenshots'",
     "output_type": "error",
     "traceback": [
      "\u001b[0;31m---------------------------------------------------------------------------\u001b[0m",
      "\u001b[0;31mFileNotFoundError\u001b[0m                         Traceback (most recent call last)",
      "Input \u001b[0;32mIn [1]\u001b[0m, in \u001b[0;36m<cell line: 2>\u001b[0;34m()\u001b[0m\n\u001b[1;32m      1\u001b[0m \u001b[38;5;28;01mimport\u001b[39;00m \u001b[38;5;21;01mgym\u001b[39;00m\n\u001b[0;32m----> 2\u001b[0m \u001b[38;5;28;01mimport\u001b[39;00m \u001b[38;5;21;01miglu\u001b[39;00m\n\u001b[1;32m      4\u001b[0m \u001b[38;5;28;01mimport\u001b[39;00m \u001b[38;5;21;01mtensorflow\u001b[39;00m \u001b[38;5;28;01mas\u001b[39;00m \u001b[38;5;21;01mtf\u001b[39;00m\n\u001b[1;32m      5\u001b[0m \u001b[38;5;28;01mimport\u001b[39;00m \u001b[38;5;21;01mtorch\u001b[39;00m \n",
      "File \u001b[0;32m~/.local/lib/python3.8/site-packages/iglu/__init__.py:1\u001b[0m, in \u001b[0;36m<module>\u001b[0;34m\u001b[0m\n\u001b[0;32m----> 1\u001b[0m \u001b[38;5;28;01mfrom\u001b[39;00m \u001b[38;5;21;01m.\u001b[39;00m\u001b[38;5;21;01menv\u001b[39;00m \u001b[38;5;28;01mimport\u001b[39;00m IGLUEnvSpec\n",
      "File \u001b[0;32m~/.local/lib/python3.8/site-packages/iglu/env.py:20\u001b[0m, in \u001b[0;36m<module>\u001b[0;34m\u001b[0m\n\u001b[1;32m     17\u001b[0m \u001b[38;5;28;01mfrom\u001b[39;00m \u001b[38;5;21;01mminerl_patched\u001b[39;00m\u001b[38;5;21;01m.\u001b[39;00m\u001b[38;5;21;01mherobraine\u001b[39;00m\u001b[38;5;21;01m.\u001b[39;00m\u001b[38;5;21;01mhero\u001b[39;00m\u001b[38;5;21;01m.\u001b[39;00m\u001b[38;5;21;01mhandler\u001b[39;00m \u001b[38;5;28;01mimport\u001b[39;00m Handler\n\u001b[1;32m     18\u001b[0m \u001b[38;5;28;01mfrom\u001b[39;00m \u001b[38;5;21;01mminerl_patched\u001b[39;00m\u001b[38;5;21;01m.\u001b[39;00m\u001b[38;5;21;01menv\u001b[39;00m\u001b[38;5;21;01m.\u001b[39;00m\u001b[38;5;21;01m_singleagent\u001b[39;00m \u001b[38;5;28;01mimport\u001b[39;00m _SingleAgentEnv\n\u001b[0;32m---> 20\u001b[0m \u001b[38;5;28;01mfrom\u001b[39;00m \u001b[38;5;21;01m.\u001b[39;00m\u001b[38;5;21;01mhandlers\u001b[39;00m \u001b[38;5;28;01mimport\u001b[39;00m AgentPosObservation, FakeResetAction, \\\n\u001b[1;32m     21\u001b[0m                       HotBarObservation, \\\n\u001b[1;32m     22\u001b[0m                       GridObservation, \\\n\u001b[1;32m     23\u001b[0m                       HotBarChoiceAction, \\\n\u001b[1;32m     24\u001b[0m                       TargetGridMonitor, \\\n\u001b[1;32m     25\u001b[0m                       CameraAction, \\\n\u001b[1;32m     26\u001b[0m                       GridIntersectionMonitor, \\\n\u001b[1;32m     27\u001b[0m                       DiscreteNavigationActions, \\\n\u001b[1;32m     28\u001b[0m                       ContinuousNavigationActions, \\\n\u001b[1;32m     29\u001b[0m                       FakeResetAction, \\\n\u001b[1;32m     30\u001b[0m                       ChatObservation\n\u001b[1;32m     32\u001b[0m \u001b[38;5;28;01mfrom\u001b[39;00m \u001b[38;5;21;01m.\u001b[39;00m\u001b[38;5;21;01mconst\u001b[39;00m \u001b[38;5;28;01mimport\u001b[39;00m GROUND_LEVEL, block_map, id2block\n\u001b[1;32m     33\u001b[0m \u001b[38;5;28;01mfrom\u001b[39;00m \u001b[38;5;21;01m.\u001b[39;00m\u001b[38;5;21;01mtasks\u001b[39;00m \u001b[38;5;28;01mimport\u001b[39;00m TaskSet, RandomTasks\n",
      "File \u001b[0;32m~/.local/lib/python3.8/site-packages/iglu/handlers.py:15\u001b[0m, in \u001b[0;36m<module>\u001b[0;34m\u001b[0m\n\u001b[1;32m     10\u001b[0m \u001b[38;5;28;01mimport\u001b[39;00m \u001b[38;5;21;01mminerl_patched\u001b[39;00m\u001b[38;5;21;01m.\u001b[39;00m\u001b[38;5;21;01mherobraine\u001b[39;00m\u001b[38;5;21;01m.\u001b[39;00m\u001b[38;5;21;01mhero\u001b[39;00m\u001b[38;5;21;01m.\u001b[39;00m\u001b[38;5;21;01mhandlers\u001b[39;00m\u001b[38;5;21;01m.\u001b[39;00m\u001b[38;5;21;01magent\u001b[39;00m\u001b[38;5;21;01m.\u001b[39;00m\u001b[38;5;21;01mobservations\u001b[39;00m\u001b[38;5;21;01m.\u001b[39;00m\u001b[38;5;21;01mlocation_stats\u001b[39;00m \u001b[38;5;28;01mas\u001b[39;00m \u001b[38;5;21;01mloc_obs\u001b[39;00m\n\u001b[1;32m     12\u001b[0m \u001b[38;5;28;01mfrom\u001b[39;00m \u001b[38;5;21;01m.\u001b[39;00m\u001b[38;5;21;01mconst\u001b[39;00m \u001b[38;5;28;01mimport\u001b[39;00m BUILD_ZONE_SIZE, \\\n\u001b[1;32m     13\u001b[0m                    GROUND_LEVEL, \\\n\u001b[1;32m     14\u001b[0m                    block_map, block2id, block_short2id\n\u001b[0;32m---> 15\u001b[0m \u001b[38;5;28;01mfrom\u001b[39;00m \u001b[38;5;21;01m.\u001b[39;00m\u001b[38;5;21;01mtasks\u001b[39;00m \u001b[38;5;28;01mimport\u001b[39;00m TaskSet, RandomTasks\n\u001b[1;32m     17\u001b[0m logger \u001b[38;5;241m=\u001b[39m logging\u001b[38;5;241m.\u001b[39mgetLogger(\u001b[38;5;18m__name__\u001b[39m)\n\u001b[1;32m     20\u001b[0m \u001b[38;5;28;01mclass\u001b[39;00m \u001b[38;5;21;01mHotBarChoiceAction\u001b[39;00m(Action):\n",
      "File \u001b[0;32m~/.local/lib/python3.8/site-packages/iglu/tasks/__init__.py:1\u001b[0m, in \u001b[0;36m<module>\u001b[0;34m\u001b[0m\n\u001b[0;32m----> 1\u001b[0m \u001b[38;5;28;01mfrom\u001b[39;00m \u001b[38;5;21;01m.\u001b[39;00m\u001b[38;5;21;01mtask_set\u001b[39;00m \u001b[38;5;28;01mimport\u001b[39;00m TaskSet, RandomTasks, CustomTasks\n\u001b[1;32m      2\u001b[0m \u001b[38;5;28;01mfrom\u001b[39;00m \u001b[38;5;21;01m.\u001b[39;00m\u001b[38;5;21;01mtask\u001b[39;00m \u001b[38;5;28;01mimport\u001b[39;00m Task\n\u001b[1;32m      4\u001b[0m __all__ \u001b[38;5;241m=\u001b[39m [\n\u001b[1;32m      5\u001b[0m     \u001b[38;5;124m'\u001b[39m\u001b[38;5;124mTaskSet\u001b[39m\u001b[38;5;124m'\u001b[39m, \u001b[38;5;124m'\u001b[39m\u001b[38;5;124mRandomTasks\u001b[39m\u001b[38;5;124m'\u001b[39m, \u001b[38;5;124m'\u001b[39m\u001b[38;5;124mCustomTasks\u001b[39m\u001b[38;5;124m'\u001b[39m,\n\u001b[1;32m      6\u001b[0m     \u001b[38;5;124m'\u001b[39m\u001b[38;5;124mTask\u001b[39m\u001b[38;5;124m'\u001b[39m\n\u001b[1;32m      7\u001b[0m ]\n",
      "File \u001b[0;32m~/.local/lib/python3.8/site-packages/iglu/tasks/task_set.py:253\u001b[0m, in \u001b[0;36m<module>\u001b[0;34m\u001b[0m\n\u001b[1;32m    250\u001b[0m         \u001b[38;5;28;01mreturn\u001b[39;00m Task(chat, target_grid)\n\u001b[1;32m    252\u001b[0m \u001b[38;5;66;03m# to initialize task descriptions\u001b[39;00m\n\u001b[0;32m--> 253\u001b[0m _ \u001b[38;5;241m=\u001b[39m \u001b[43mTaskSet\u001b[49m\u001b[43m(\u001b[49m\u001b[43mpreset\u001b[49m\u001b[38;5;241;43m=\u001b[39;49m\u001b[43m[\u001b[49m\u001b[38;5;124;43mf\u001b[39;49m\u001b[38;5;124;43m'\u001b[39;49m\u001b[38;5;124;43mC\u001b[39;49m\u001b[38;5;132;43;01m{\u001b[39;49;00m\u001b[43mj\u001b[49m\u001b[38;5;132;43;01m}\u001b[39;49;00m\u001b[38;5;124;43m'\u001b[39;49m\u001b[43m \u001b[49m\u001b[38;5;28;43;01mfor\u001b[39;49;00m\u001b[43m \u001b[49m\u001b[43mj\u001b[49m\u001b[43m \u001b[49m\u001b[38;5;129;43;01min\u001b[39;49;00m\u001b[43m \u001b[49m\u001b[38;5;28;43mrange\u001b[39;49m\u001b[43m(\u001b[49m\u001b[38;5;241;43m1\u001b[39;49m\u001b[43m,\u001b[49m\u001b[43m \u001b[49m\u001b[38;5;241;43m158\u001b[39;49m\u001b[43m)\u001b[49m\u001b[43m]\u001b[49m\u001b[43m,\u001b[49m\u001b[43m \u001b[49m\u001b[43mupdate_task_dict\u001b[49m\u001b[38;5;241;43m=\u001b[39;49m\u001b[38;5;28;43;01mTrue\u001b[39;49;00m\u001b[43m)\u001b[49m \n\u001b[1;32m    255\u001b[0m ALL_TASKS \u001b[38;5;241m=\u001b[39m TaskSet\u001b[38;5;241m.\u001b[39msubset([\u001b[38;5;124mf\u001b[39m\u001b[38;5;124m'\u001b[39m\u001b[38;5;124mC\u001b[39m\u001b[38;5;132;01m{\u001b[39;00mk\u001b[38;5;132;01m}\u001b[39;00m\u001b[38;5;124m'\u001b[39m \u001b[38;5;28;01mfor\u001b[39;00m k \u001b[38;5;129;01min\u001b[39;00m \u001b[38;5;28mrange\u001b[39m(\u001b[38;5;241m1\u001b[39m, \u001b[38;5;241m158\u001b[39m)])\n\u001b[1;32m    256\u001b[0m SIMPLEST_TASKS \u001b[38;5;241m=\u001b[39m TaskSet\u001b[38;5;241m.\u001b[39msubset([\u001b[38;5;124m'\u001b[39m\u001b[38;5;124mC3\u001b[39m\u001b[38;5;124m'\u001b[39m, \u001b[38;5;124m'\u001b[39m\u001b[38;5;124mC8\u001b[39m\u001b[38;5;124m'\u001b[39m, \u001b[38;5;124m'\u001b[39m\u001b[38;5;124mC12\u001b[39m\u001b[38;5;124m'\u001b[39m, \u001b[38;5;124m'\u001b[39m\u001b[38;5;124mC14\u001b[39m\u001b[38;5;124m'\u001b[39m, \u001b[38;5;124m'\u001b[39m\u001b[38;5;124mC32\u001b[39m\u001b[38;5;124m'\u001b[39m, \u001b[38;5;124m'\u001b[39m\u001b[38;5;124mC17\u001b[39m\u001b[38;5;124m'\u001b[39m])\n",
      "File \u001b[0;32m~/.local/lib/python3.8/site-packages/iglu/tasks/task_set.py:29\u001b[0m, in \u001b[0;36mTaskSet.__init__\u001b[0;34m(self, preset, task_id, update_task_dict)\u001b[0m\n\u001b[1;32m     28\u001b[0m \u001b[38;5;28;01mdef\u001b[39;00m \u001b[38;5;21m__init__\u001b[39m(\u001b[38;5;28mself\u001b[39m, preset\u001b[38;5;241m=\u001b[39m\u001b[38;5;124m'\u001b[39m\u001b[38;5;124msimplest\u001b[39m\u001b[38;5;124m'\u001b[39m, task_id\u001b[38;5;241m=\u001b[39m\u001b[38;5;28;01mNone\u001b[39;00m, update_task_dict\u001b[38;5;241m=\u001b[39m\u001b[38;5;28;01mFalse\u001b[39;00m):\n\u001b[0;32m---> 29\u001b[0m     \u001b[38;5;28;43mself\u001b[39;49m\u001b[38;5;241;43m.\u001b[39;49m\u001b[43m_load_data\u001b[49m\u001b[43m(\u001b[49m\n\u001b[1;32m     30\u001b[0m \u001b[43m        \u001b[49m\u001b[43mforce_download\u001b[49m\u001b[38;5;241;43m=\u001b[39;49m\u001b[43mos\u001b[49m\u001b[38;5;241;43m.\u001b[39;49m\u001b[43menviron\u001b[49m\u001b[38;5;241;43m.\u001b[39;49m\u001b[43mget\u001b[49m\u001b[43m(\u001b[49m\u001b[38;5;124;43m'\u001b[39;49m\u001b[38;5;124;43mIGLU_FORCE_DOWNLOAD\u001b[39;49m\u001b[38;5;124;43m'\u001b[39;49m\u001b[43m,\u001b[49m\u001b[43m \u001b[49m\u001b[38;5;124;43m'\u001b[39;49m\u001b[38;5;124;43m0\u001b[39;49m\u001b[38;5;124;43m'\u001b[39;49m\u001b[43m)\u001b[49m\u001b[43m \u001b[49m\u001b[38;5;241;43m==\u001b[39;49m\u001b[43m \u001b[49m\u001b[38;5;124;43m'\u001b[39;49m\u001b[38;5;124;43m1\u001b[39;49m\u001b[38;5;124;43m'\u001b[39;49m\u001b[43m,\u001b[49m\n\u001b[1;32m     31\u001b[0m \u001b[43m        \u001b[49m\u001b[43mupdate_task_dict\u001b[49m\u001b[38;5;241;43m=\u001b[39;49m\u001b[43mupdate_task_dict\u001b[49m\u001b[43m)\u001b[49m\n\u001b[1;32m     32\u001b[0m     \u001b[38;5;28mself\u001b[39m\u001b[38;5;241m.\u001b[39mtasks \u001b[38;5;241m=\u001b[39m \u001b[38;5;28mself\u001b[39m\u001b[38;5;241m.\u001b[39m_parse_data()\n\u001b[1;32m     33\u001b[0m     \u001b[38;5;28mself\u001b[39m\u001b[38;5;241m.\u001b[39mpreset \u001b[38;5;241m=\u001b[39m {}\n",
      "File \u001b[0;32m~/.local/lib/python3.8/site-packages/iglu/tasks/task_set.py:86\u001b[0m, in \u001b[0;36mTaskSet._load_data\u001b[0;34m(self, force_download, update_task_dict)\u001b[0m\n\u001b[1;32m     84\u001b[0m         zfile\u001b[38;5;241m.\u001b[39mextractall(DATA_PREFIX)\n\u001b[1;32m     85\u001b[0m dir_name \u001b[38;5;241m=\u001b[39m \u001b[38;5;124m'\u001b[39m\u001b[38;5;124mThe Minecraft Dialogue Corpus -- no screenshots\u001b[39m\u001b[38;5;124m'\u001b[39m\n\u001b[0;32m---> 86\u001b[0m dirs \u001b[38;5;241m=\u001b[39m [dir_ \u001b[38;5;28;01mfor\u001b[39;00m dir_ \u001b[38;5;129;01min\u001b[39;00m \u001b[43mos\u001b[49m\u001b[38;5;241;43m.\u001b[39;49m\u001b[43mlistdir\u001b[49m\u001b[43m(\u001b[49m\u001b[43mos\u001b[49m\u001b[38;5;241;43m.\u001b[39;49m\u001b[43mpath\u001b[49m\u001b[38;5;241;43m.\u001b[39;49m\u001b[43mjoin\u001b[49m\u001b[43m(\u001b[49m\u001b[43mDATA_PREFIX\u001b[49m\u001b[43m,\u001b[49m\u001b[43m \u001b[49m\u001b[43mdir_name\u001b[49m\u001b[43m)\u001b[49m\u001b[43m)\u001b[49m \u001b[38;5;28;01mif\u001b[39;00m dir_\u001b[38;5;241m.\u001b[39mstartswith(\u001b[38;5;124m'\u001b[39m\u001b[38;5;124mdata-\u001b[39m\u001b[38;5;124m'\u001b[39m)]\n\u001b[1;32m     87\u001b[0m \u001b[38;5;28;01mfor\u001b[39;00m dir_ \u001b[38;5;129;01min\u001b[39;00m dirs:\n\u001b[1;32m     88\u001b[0m     shutil\u001b[38;5;241m.\u001b[39mmove(\n\u001b[1;32m     89\u001b[0m         os\u001b[38;5;241m.\u001b[39mpath\u001b[38;5;241m.\u001b[39mjoin(DATA_PREFIX, dir_name, dir_), \n\u001b[1;32m     90\u001b[0m         os\u001b[38;5;241m.\u001b[39mpath\u001b[38;5;241m.\u001b[39mjoin(DATA_PREFIX, dir_),\n\u001b[1;32m     91\u001b[0m     )\n",
      "\u001b[0;31mFileNotFoundError\u001b[0m: [Errno 2] No such file or directory: '/home/zoya/.iglu/data/The Minecraft Dialogue Corpus -- no screenshots'"
     ]
    }
   ],
   "source": [
    "import gym\n",
    "import iglu\n",
    "\n",
    "import tensorflow as tf\n",
    "import torch \n",
    "import gym\n",
    "from copy import deepcopy as copy\n",
    "from gym import spaces\n",
    "import ray\n",
    "import numpy as np\n",
    "from torch._C import Value\n",
    "import yaml\n",
    "\n",
    "import sys\n",
    "\n",
    "\n",
    "from wrappers import FakeIglu, VideoLogger\n",
    "from train import build_env, register_models\n",
    "from ray.rllib.agents.registry import get_trainer_class"
   ]
  },
  {
   "cell_type": "code",
   "execution_count": 10,
   "id": "f9b2d1ec",
   "metadata": {},
   "outputs": [
    {
     "name": "stdout",
     "output_type": "stream",
     "text": [
      "\n",
      " Complete Scold \n",
      "\n",
      "\n",
      " RAND TARGET \n",
      "\n"
     ]
    }
   ],
   "source": [
    "with open(\"configs/ppo_oneblock.yml\", 'r') as f:\n",
    "            config = yaml.safe_load(f)['iglu-baseline']['config']['env_config']\n",
    "env = VideoLogger(build_env(config))"
   ]
  },
  {
   "cell_type": "code",
   "execution_count": 3,
   "id": "0050abe7",
   "metadata": {},
   "outputs": [],
   "source": [
    "action_probs = np.asarray([ 4.033663 , -2.4234757, -1.8451793,  5.95333  ,  4.282549 ,\n",
    "        -2.5047653,  6.3141947,  5.27204  ,  6.0005774, -2.6489756,\n",
    "        -1.0991358,  7.927806 , -2.4078245, -2.6926982, -2.8353817,\n",
    "        -1.4493525, -2.9753914,  3.7834141])\n",
    "action_probs += action_probs.max()\n",
    "action_probs/=action_probs.sum()"
   ]
  },
  {
   "cell_type": "code",
   "execution_count": 4,
   "id": "1770e32c",
   "metadata": {},
   "outputs": [
    {
     "data": {
      "text/plain": [
       "Discrete(18)"
      ]
     },
     "execution_count": 4,
     "metadata": {},
     "output_type": "execute_result"
    }
   ],
   "source": [
    "env.action_space"
   ]
  },
  {
   "cell_type": "code",
   "execution_count": 5,
   "id": "f10aa755",
   "metadata": {},
   "outputs": [],
   "source": [
    "def action_generator(action_probs):    \n",
    "    return np.random.choice(np.arange(0, 18), p=action_probs)\n"
   ]
  },
  {
   "cell_type": "code",
   "execution_count": 11,
   "id": "deed685e",
   "metadata": {},
   "outputs": [
    {
     "name": "stderr",
     "output_type": "stream",
     "text": [
      "/home/zvolovikova/.local/lib/python3.8/site-packages/gym/logger.py:30: UserWarning: \u001b[33mWARN: Box bound precision lowered by casting to float32\u001b[0m\n",
      "  warnings.warn(colorize('%s: %s'%('WARN', msg % args), 'yellow'))\n",
      "/home/zvolovikova/.local/lib/python3.8/site-packages/gym/logger.py:30: UserWarning: \u001b[33mWARN: Box bound precision lowered by casting to float32\u001b[0m\n",
      "  warnings.warn(colorize('%s: %s'%('WARN', msg % args), 'yellow'))\n",
      "/usr/lib/python3.8/runpy.py:127: RuntimeWarning: 'minerl_patched.utils.process_watcher' found in sys.modules after import of package 'minerl_patched.utils', but prior to execution of 'minerl_patched.utils.process_watcher'; this may result in unpredictable behaviour\n",
      "  warn(RuntimeWarning(msg))\n"
     ]
    },
    {
     "name": "stdout",
     "output_type": "stream",
     "text": [
      "WARNING:minerl_patched.env.malmo.instance.ddfd1b:[12:15:12] [main/WARN]: The coremod com.microsoft.Malmo.OverclockingPlugin does not have a MCVersion annotation, it may cause issues with this version of Minecraft\n",
      "ERROR:minerl_patched.env.malmo.instance.ddfd1b:[12:15:18] [main/ERROR]: The binary patch set is missing. Either you are in a development environment, or things are not going to work!\n",
      "ERROR:minerl_patched.env.malmo.instance.ddfd1b:[12:15:18] [main/ERROR]: FML appears to be missing any signature data. This is not a good thing\n",
      "WARNING:minerl_patched.env.malmo.instance.ddfd1b:[12:15:18] [main/WARN]: Reference map 'mixins.malmo.refmap.json' for mixins.overclocking.malmomod.json could not be read. If this is a development environment you can ignore this message\n",
      "WARNING:minerl_patched.env.malmo.instance.ddfd1b:[12:15:21] [Client thread/WARN]: Skipping bad option: lastServer:\n",
      "ERROR:minerl_patched.env.malmo.instance.ddfd1b:[12:15:26] [Client thread/INFO]: [STDOUT]: [ERROR] Seed specified was NONE. Expected a long (integer).\n",
      "WARNING:minerl_patched.env.malmo.instance.ddfd1b:[12:15:27] [Client thread/WARN]: Author: Paul Lamb, www.paulscode.com\n",
      "WARNING:minerl_patched.env.malmo.instance.ddfd1b:[12:15:28] [Client thread/WARN]: Texture malmomod:textures/blocks/blank.png with size 500x500 will have visual artifacts at mip level 4, it can only support level 2. Please report to the mod author that the texture should be some multiple of 16x16.\n",
      "WARNING:minerl_patched.env.malmo.instance.ddfd1b:[12:15:28] [Client thread/WARN]: Skipping bad option: lastServer:\n",
      "WARNING:minerl_patched.env.malmo.instance.ddfd1b:[12:15:31] [Server thread/WARN]: Unable to find spawn biome\n"
     ]
    }
   ],
   "source": [
    "obs = env.reset()"
   ]
  },
  {
   "cell_type": "code",
   "execution_count": 12,
   "id": "39212ff1",
   "metadata": {},
   "outputs": [
    {
     "name": "stdout",
     "output_type": "stream",
     "text": [
      "False\n",
      "False\n",
      "False\n",
      "False\n",
      "False\n",
      "False\n",
      "False\n",
      "False\n",
      "False\n",
      "False\n",
      "False\n",
      "False\n",
      "False\n",
      "False\n",
      "False\n",
      "False\n",
      "False\n",
      "False\n",
      "False\n",
      "False\n",
      "False\n",
      "False\n",
      "False\n",
      "False\n",
      "False\n",
      "False\n",
      "False\n",
      "False\n",
      "False\n",
      "False\n",
      "False\n",
      "False\n",
      "False\n",
      "False\n",
      "False\n",
      "False\n",
      "False\n",
      "False\n",
      "False\n",
      "False\n",
      "False\n",
      "False\n",
      "False\n",
      "False\n",
      "False\n",
      "False\n",
      "False\n",
      "False\n",
      "False\n",
      "False\n",
      "False\n",
      "False\n",
      "False\n",
      "False\n",
      "False\n",
      "False\n",
      "False\n",
      "False\n",
      "False\n",
      "False\n",
      "False\n",
      "False\n",
      "False\n",
      "False\n",
      "False\n",
      "False\n",
      "False\n",
      "False\n",
      "False\n",
      "False\n",
      "False\n",
      "False\n",
      "False\n",
      "False\n",
      "False\n",
      "False\n",
      "False\n",
      "False\n",
      "False\n",
      "False\n",
      "False\n",
      "False\n",
      "False\n",
      "False\n",
      "False\n",
      "False\n",
      "False\n",
      "False\n",
      "False\n",
      "False\n",
      "False\n",
      "False\n",
      "False\n",
      "False\n",
      "False\n",
      "False\n",
      "False\n",
      "False\n",
      "False\n",
      "False\n",
      "False\n",
      "False\n",
      "False\n",
      "False\n",
      "False\n",
      "False\n",
      "False\n",
      "False\n",
      "False\n",
      "False\n",
      "False\n",
      "False\n",
      "False\n",
      "False\n",
      "False\n",
      "False\n",
      "False\n",
      "False\n",
      "False\n",
      "False\n",
      "False\n",
      "False\n",
      "False\n",
      "False\n",
      "False\n",
      "False\n",
      "False\n",
      "True\n"
     ]
    }
   ],
   "source": [
    "total_reward = 0.\n",
    "done = False\n",
    "steps = 0\n",
    "while not done:\n",
    "  #display(Image.fromarray(obs['pov'].astype(np.uint8),).resize((256, 256)), )\n",
    "  action = action_generator(action_probs)\n",
    "  # action['camera'][0] *= 0.1\n",
    "  # action['camera'][0] *= 0.3\n",
    "  obs, reward, done, info = env.step(action)\n",
    "  total_reward += reward\n",
    "  steps+=1\n",
    "#  clear_output(wait=True)"
   ]
  },
  {
   "cell_type": "code",
   "execution_count": 14,
   "id": "28071a73",
   "metadata": {},
   "outputs": [
    {
     "name": "stdout",
     "output_type": "stream",
     "text": [
      "----------\n",
      "TARGET -  (array([1]), array([8]))\n",
      "position -  [3.92772484 4.06086465]\n",
      "reward -  -0.0\n",
      "steps -  128\n",
      "builds -  (array([0]), array([3]), array([7]))\n"
     ]
    }
   ],
   "source": [
    "print(\"----------\")\n",
    "print(\"TARGET - \", np.where(obs['target_grid']!=0)[1:])\n",
    "print(\"position - \", info['agentPos'][:3:2]+5)\n",
    "print(\"reward - \", round(total_reward,3))\n",
    "print(\"steps - \", steps)\n",
    "print(\"builds - \", np.where(info['grid']!=0))"
   ]
  },
  {
   "cell_type": "code",
   "execution_count": null,
   "id": "89830d64",
   "metadata": {},
   "outputs": [],
   "source": []
  }
 ],
 "metadata": {
  "kernelspec": {
   "display_name": "Python 3 (ipykernel)",
   "language": "python",
   "name": "python3"
  },
  "language_info": {
   "codemirror_mode": {
    "name": "ipython",
    "version": 3
   },
   "file_extension": ".py",
   "mimetype": "text/x-python",
   "name": "python",
   "nbconvert_exporter": "python",
   "pygments_lexer": "ipython3",
   "version": "3.8.10"
  }
 },
 "nbformat": 4,
 "nbformat_minor": 5
}
